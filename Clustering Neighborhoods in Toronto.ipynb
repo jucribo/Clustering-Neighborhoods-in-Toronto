{
 "cells": [
  {
   "cell_type": "markdown",
   "metadata": {},
   "source": [
    "# Segmenting and Clustering Neighborhoods in Toronto"
   ]
  },
  {
   "cell_type": "markdown",
   "metadata": {},
   "source": [
    "# <font color='blue'> 1. First Part </font>"
   ]
  },
  {
   "cell_type": "markdown",
   "metadata": {},
   "source": [
    "## 1.1. Scrape the Wikipedia page about the Neighborhoods in Toronto\n",
    "\n",
    "### Source: https://en.wikipedia.org/wiki/List_of_postal_codes_of_Canada:_M"
   ]
  },
  {
   "cell_type": "code",
   "execution_count": 1,
   "metadata": {},
   "outputs": [
    {
     "data": {
      "text/html": [
       "<div>\n",
       "<style scoped>\n",
       "    .dataframe tbody tr th:only-of-type {\n",
       "        vertical-align: middle;\n",
       "    }\n",
       "\n",
       "    .dataframe tbody tr th {\n",
       "        vertical-align: top;\n",
       "    }\n",
       "\n",
       "    .dataframe thead th {\n",
       "        text-align: right;\n",
       "    }\n",
       "</style>\n",
       "<table border=\"1\" class=\"dataframe\">\n",
       "  <thead>\n",
       "    <tr style=\"text-align: right;\">\n",
       "      <th></th>\n",
       "      <th>Postal Code</th>\n",
       "      <th>Borough</th>\n",
       "      <th>Neighbourhood</th>\n",
       "    </tr>\n",
       "  </thead>\n",
       "  <tbody>\n",
       "    <tr>\n",
       "      <th>0</th>\n",
       "      <td>M1A</td>\n",
       "      <td>Not assigned</td>\n",
       "      <td>Not assigned</td>\n",
       "    </tr>\n",
       "    <tr>\n",
       "      <th>1</th>\n",
       "      <td>M2A</td>\n",
       "      <td>Not assigned</td>\n",
       "      <td>Not assigned</td>\n",
       "    </tr>\n",
       "    <tr>\n",
       "      <th>2</th>\n",
       "      <td>M3A</td>\n",
       "      <td>North York</td>\n",
       "      <td>Parkwoods</td>\n",
       "    </tr>\n",
       "    <tr>\n",
       "      <th>3</th>\n",
       "      <td>M4A</td>\n",
       "      <td>North York</td>\n",
       "      <td>Victoria Village</td>\n",
       "    </tr>\n",
       "    <tr>\n",
       "      <th>4</th>\n",
       "      <td>M5A</td>\n",
       "      <td>Downtown Toronto</td>\n",
       "      <td>Regent Park, Harbourfront</td>\n",
       "    </tr>\n",
       "  </tbody>\n",
       "</table>\n",
       "</div>"
      ],
      "text/plain": [
       "  Postal Code           Borough              Neighbourhood\n",
       "0         M1A      Not assigned               Not assigned\n",
       "1         M2A      Not assigned               Not assigned\n",
       "2         M3A        North York                  Parkwoods\n",
       "3         M4A        North York           Victoria Village\n",
       "4         M5A  Downtown Toronto  Regent Park, Harbourfront"
      ]
     },
     "execution_count": 1,
     "metadata": {},
     "output_type": "execute_result"
    }
   ],
   "source": [
    "# libraries\n",
    "from bs4 import BeautifulSoup\n",
    "import requests\n",
    "import pandas as pd\n",
    "import numpy as np\n",
    "\n",
    "# Generate HTML from the page that have the information about neighbothoods in Toronto\n",
    "source = requests.get(\"https://en.wikipedia.org/wiki/List_of_postal_codes_of_Canada:_M\")\n",
    "soup = BeautifulSoup(source.text, 'lxml')\n",
    "\n",
    "# Using soup object to iterate with the .wikitable to get the data from the HTML page and store it into a list\n",
    "data = []\n",
    "columns = []\n",
    "table = soup.find(class_='wikitable')\n",
    "for index, tr in enumerate(table.find_all('tr')):\n",
    "    section = []\n",
    "    for td in tr.find_all(['th','td']):\n",
    "        section.append(td.text.rstrip())\n",
    "    \n",
    "    #First row of data is the header\n",
    "    if (index == 0):\n",
    "        columns = section\n",
    "    else:\n",
    "        data.append(section)\n",
    "\n",
    "#convert list into Pandas DataFrame\n",
    "canada_df = pd.DataFrame(data = data,columns = columns)\n",
    "canada_df.head()"
   ]
  },
  {
   "cell_type": "markdown",
   "metadata": {},
   "source": [
    "## 1.2.  DataPrep:"
   ]
  },
  {
   "cell_type": "markdown",
   "metadata": {},
   "source": [
    "* <b> The dataframe will consist of three columns: PostalCode, Borough, and Neighborhood </b>"
   ]
  },
  {
   "cell_type": "code",
   "execution_count": 2,
   "metadata": {},
   "outputs": [
    {
     "data": {
      "text/html": [
       "<div>\n",
       "<style scoped>\n",
       "    .dataframe tbody tr th:only-of-type {\n",
       "        vertical-align: middle;\n",
       "    }\n",
       "\n",
       "    .dataframe tbody tr th {\n",
       "        vertical-align: top;\n",
       "    }\n",
       "\n",
       "    .dataframe thead th {\n",
       "        text-align: right;\n",
       "    }\n",
       "</style>\n",
       "<table border=\"1\" class=\"dataframe\">\n",
       "  <thead>\n",
       "    <tr style=\"text-align: right;\">\n",
       "      <th></th>\n",
       "      <th>PostalCode</th>\n",
       "      <th>Borough</th>\n",
       "      <th>Neighborhood</th>\n",
       "    </tr>\n",
       "  </thead>\n",
       "  <tbody>\n",
       "    <tr>\n",
       "      <th>0</th>\n",
       "      <td>M1A</td>\n",
       "      <td>Not assigned</td>\n",
       "      <td>Not assigned</td>\n",
       "    </tr>\n",
       "    <tr>\n",
       "      <th>1</th>\n",
       "      <td>M2A</td>\n",
       "      <td>Not assigned</td>\n",
       "      <td>Not assigned</td>\n",
       "    </tr>\n",
       "  </tbody>\n",
       "</table>\n",
       "</div>"
      ],
      "text/plain": [
       "  PostalCode       Borough  Neighborhood\n",
       "0        M1A  Not assigned  Not assigned\n",
       "1        M2A  Not assigned  Not assigned"
      ]
     },
     "execution_count": 2,
     "metadata": {},
     "output_type": "execute_result"
    }
   ],
   "source": [
    "# rename the columns name\n",
    "canada_df.rename(columns={'Postal Code': 'PostalCode', 'Borough': 'Borough', 'Neighbourhood': 'Neighborhood'}, inplace=True)\n",
    "canada_df.head(2)"
   ]
  },
  {
   "cell_type": "markdown",
   "metadata": {},
   "source": [
    "* <b> Only process the cells that have an assigned borough. Ignore cells with a borough that is Not assigned. </b>"
   ]
  },
  {
   "cell_type": "code",
   "execution_count": 3,
   "metadata": {},
   "outputs": [
    {
     "name": "stdout",
     "output_type": "stream",
     "text": [
      "['North York' 'Downtown Toronto' 'Etobicoke' 'Scarborough' 'East York'\n",
      " 'York' 'East Toronto' 'West Toronto' 'Central Toronto' 'Mississauga']\n"
     ]
    },
    {
     "data": {
      "text/html": [
       "<div>\n",
       "<style scoped>\n",
       "    .dataframe tbody tr th:only-of-type {\n",
       "        vertical-align: middle;\n",
       "    }\n",
       "\n",
       "    .dataframe tbody tr th {\n",
       "        vertical-align: top;\n",
       "    }\n",
       "\n",
       "    .dataframe thead th {\n",
       "        text-align: right;\n",
       "    }\n",
       "</style>\n",
       "<table border=\"1\" class=\"dataframe\">\n",
       "  <thead>\n",
       "    <tr style=\"text-align: right;\">\n",
       "      <th></th>\n",
       "      <th>PostalCode</th>\n",
       "      <th>Borough</th>\n",
       "      <th>Neighborhood</th>\n",
       "    </tr>\n",
       "  </thead>\n",
       "  <tbody>\n",
       "    <tr>\n",
       "      <th>2</th>\n",
       "      <td>M3A</td>\n",
       "      <td>North York</td>\n",
       "      <td>Parkwoods</td>\n",
       "    </tr>\n",
       "    <tr>\n",
       "      <th>3</th>\n",
       "      <td>M4A</td>\n",
       "      <td>North York</td>\n",
       "      <td>Victoria Village</td>\n",
       "    </tr>\n",
       "  </tbody>\n",
       "</table>\n",
       "</div>"
      ],
      "text/plain": [
       "  PostalCode     Borough      Neighborhood\n",
       "2        M3A  North York         Parkwoods\n",
       "3        M4A  North York  Victoria Village"
      ]
     },
     "execution_count": 3,
     "metadata": {},
     "output_type": "execute_result"
    }
   ],
   "source": [
    "# drop the rows with Borough == \"Not assigned\"\n",
    "canada_df.drop(canada_df[canada_df.Borough == \"Not assigned\"].index, inplace=True)\n",
    "\n",
    "# list of Boroughs\n",
    "print(canada_df.Borough.unique())\n",
    "\n",
    "canada_df.head(2)"
   ]
  },
  {
   "cell_type": "markdown",
   "metadata": {},
   "source": [
    "* <b> If a cell has a borough but a Not assigned neighborhood, then the neighborhood will be the same as the borough. </b>"
   ]
  },
  {
   "cell_type": "code",
   "execution_count": 4,
   "metadata": {},
   "outputs": [
    {
     "data": {
      "text/html": [
       "<div>\n",
       "<style scoped>\n",
       "    .dataframe tbody tr th:only-of-type {\n",
       "        vertical-align: middle;\n",
       "    }\n",
       "\n",
       "    .dataframe tbody tr th {\n",
       "        vertical-align: top;\n",
       "    }\n",
       "\n",
       "    .dataframe thead th {\n",
       "        text-align: right;\n",
       "    }\n",
       "</style>\n",
       "<table border=\"1\" class=\"dataframe\">\n",
       "  <thead>\n",
       "    <tr style=\"text-align: right;\">\n",
       "      <th></th>\n",
       "      <th>PostalCode</th>\n",
       "      <th>Borough</th>\n",
       "      <th>Neighborhood</th>\n",
       "    </tr>\n",
       "  </thead>\n",
       "  <tbody>\n",
       "    <tr>\n",
       "      <th>2</th>\n",
       "      <td>M3A</td>\n",
       "      <td>North York</td>\n",
       "      <td>Parkwoods</td>\n",
       "    </tr>\n",
       "    <tr>\n",
       "      <th>3</th>\n",
       "      <td>M4A</td>\n",
       "      <td>North York</td>\n",
       "      <td>Victoria Village</td>\n",
       "    </tr>\n",
       "  </tbody>\n",
       "</table>\n",
       "</div>"
      ],
      "text/plain": [
       "  PostalCode     Borough      Neighborhood\n",
       "2        M3A  North York         Parkwoods\n",
       "3        M4A  North York  Victoria Village"
      ]
     },
     "execution_count": 4,
     "metadata": {},
     "output_type": "execute_result"
    }
   ],
   "source": [
    "# replace the name of Neighbourhood when = Not assigned to the name of the Borough\n",
    "canada_df['Neighborhood'].replace(\"Not assigned\", canada_df[\"Borough\"],inplace=True)\n",
    "\n",
    "# list of Neighborhood\n",
    "#print(canada_df.Neighborhood.unique())\n",
    "\n",
    "canada_df.head(2)"
   ]
  },
  {
   "cell_type": "markdown",
   "metadata": {},
   "source": [
    "* <b> Number of rows of your dataframe </b>"
   ]
  },
  {
   "cell_type": "code",
   "execution_count": 5,
   "metadata": {},
   "outputs": [
    {
     "data": {
      "text/plain": [
       "(103, 3)"
      ]
     },
     "execution_count": 5,
     "metadata": {},
     "output_type": "execute_result"
    }
   ],
   "source": [
    "canada_df.shape"
   ]
  },
  {
   "cell_type": "markdown",
   "metadata": {},
   "source": [
    "# <font color='blue'> 2. Second Part </font> "
   ]
  },
  {
   "cell_type": "markdown",
   "metadata": {},
   "source": [
    "## The Latitude and the Longitude coordinates of each neighborhood (Using GeoPy)"
   ]
  },
  {
   "cell_type": "code",
   "execution_count": 26,
   "metadata": {},
   "outputs": [],
   "source": [
    "#!pip install geopy\n",
    "#!pip install geocoder"
   ]
  },
  {
   "cell_type": "code",
   "execution_count": 7,
   "metadata": {},
   "outputs": [],
   "source": [
    "import geocoder\n",
    "\n",
    "# Defining a function to get the Latitude and Longitude\n",
    "def get_latlng(arcgis_geocoder):\n",
    "    \n",
    "    # Initialize the Location (lat. and long.) to \"None\"\n",
    "    lat_lng_coords = \"NaN\"\n",
    "    \n",
    "    # While loop helps to create a continous run until all the location coordinates are geocoded\n",
    "    while(lat_lng_coords is \"NaN\"):\n",
    "        g = geocoder.arcgis('{}, Toronto, Ontario'.format(arcgis_geocoder))\n",
    "        lat_lng_coords = g.latlng\n",
    "                \n",
    "    return lat_lng_coords"
   ]
  },
  {
   "cell_type": "code",
   "execution_count": 8,
   "metadata": {},
   "outputs": [],
   "source": [
    "# Append the latitude and longitude to the dataframe\n",
    "canada_df['Latitude'], canada_df['Longitude'] = zip(*canada_df['PostalCode'].apply(get_latlng))"
   ]
  },
  {
   "cell_type": "code",
   "execution_count": 9,
   "metadata": {},
   "outputs": [
    {
     "data": {
      "text/html": [
       "<div>\n",
       "<style scoped>\n",
       "    .dataframe tbody tr th:only-of-type {\n",
       "        vertical-align: middle;\n",
       "    }\n",
       "\n",
       "    .dataframe tbody tr th {\n",
       "        vertical-align: top;\n",
       "    }\n",
       "\n",
       "    .dataframe thead th {\n",
       "        text-align: right;\n",
       "    }\n",
       "</style>\n",
       "<table border=\"1\" class=\"dataframe\">\n",
       "  <thead>\n",
       "    <tr style=\"text-align: right;\">\n",
       "      <th></th>\n",
       "      <th>PostalCode</th>\n",
       "      <th>Borough</th>\n",
       "      <th>Neighborhood</th>\n",
       "      <th>Latitude</th>\n",
       "      <th>Longitude</th>\n",
       "    </tr>\n",
       "  </thead>\n",
       "  <tbody>\n",
       "    <tr>\n",
       "      <th>2</th>\n",
       "      <td>M3A</td>\n",
       "      <td>North York</td>\n",
       "      <td>Parkwoods</td>\n",
       "      <td>43.75188</td>\n",
       "      <td>-79.33036</td>\n",
       "    </tr>\n",
       "    <tr>\n",
       "      <th>3</th>\n",
       "      <td>M4A</td>\n",
       "      <td>North York</td>\n",
       "      <td>Victoria Village</td>\n",
       "      <td>43.73042</td>\n",
       "      <td>-79.31282</td>\n",
       "    </tr>\n",
       "    <tr>\n",
       "      <th>4</th>\n",
       "      <td>M5A</td>\n",
       "      <td>Downtown Toronto</td>\n",
       "      <td>Regent Park, Harbourfront</td>\n",
       "      <td>43.65514</td>\n",
       "      <td>-79.36265</td>\n",
       "    </tr>\n",
       "    <tr>\n",
       "      <th>5</th>\n",
       "      <td>M6A</td>\n",
       "      <td>North York</td>\n",
       "      <td>Lawrence Manor, Lawrence Heights</td>\n",
       "      <td>43.72321</td>\n",
       "      <td>-79.45141</td>\n",
       "    </tr>\n",
       "    <tr>\n",
       "      <th>6</th>\n",
       "      <td>M7A</td>\n",
       "      <td>Downtown Toronto</td>\n",
       "      <td>Queen's Park, Ontario Provincial Government</td>\n",
       "      <td>43.66449</td>\n",
       "      <td>-79.39302</td>\n",
       "    </tr>\n",
       "  </tbody>\n",
       "</table>\n",
       "</div>"
      ],
      "text/plain": [
       "  PostalCode           Borough                                 Neighborhood  \\\n",
       "2        M3A        North York                                    Parkwoods   \n",
       "3        M4A        North York                             Victoria Village   \n",
       "4        M5A  Downtown Toronto                    Regent Park, Harbourfront   \n",
       "5        M6A        North York             Lawrence Manor, Lawrence Heights   \n",
       "6        M7A  Downtown Toronto  Queen's Park, Ontario Provincial Government   \n",
       "\n",
       "   Latitude  Longitude  \n",
       "2  43.75188  -79.33036  \n",
       "3  43.73042  -79.31282  \n",
       "4  43.65514  -79.36265  \n",
       "5  43.72321  -79.45141  \n",
       "6  43.66449  -79.39302  "
      ]
     },
     "execution_count": 9,
     "metadata": {},
     "output_type": "execute_result"
    }
   ],
   "source": [
    "canada_df.head(5)"
   ]
  },
  {
   "cell_type": "markdown",
   "metadata": {},
   "source": [
    "# <font color='blue'> 3. Third Part </font>  "
   ]
  },
  {
   "cell_type": "markdown",
   "metadata": {},
   "source": [
    "## Explore and cluster the neighborhoods in Toronto"
   ]
  },
  {
   "cell_type": "code",
   "execution_count": 10,
   "metadata": {},
   "outputs": [
    {
     "name": "stderr",
     "output_type": "stream",
     "text": [
      "usage: conda-script.py [-h] [-V] command ...\n",
      "conda-script.py: error: unrecognized arguments: # uncomment this line if you haven't completed the Foursquare API lab\n"
     ]
    }
   ],
   "source": [
    "import requests # library to handle requests\n",
    "from pandas.io.json import json_normalize # tranform JSON file into a pandas dataframe\n",
    "\n",
    "# Matplotlib and associated plotting modules\n",
    "import matplotlib.cm as cm\n",
    "import matplotlib.colors as colors\n",
    "\n",
    "# import k-means from clustering stage\n",
    "from sklearn.cluster import KMeans\n",
    "\n",
    "!conda install -c conda-forge geopy --yes # uncomment this line if you haven't completed the Foursquare API lab\n",
    "from geopy.geocoders import Nominatim # convert an address into latitude and longitude values\n",
    "\n",
    "#!conda install -c conda-forge folium=0.5.0 --yes # uncomment this line if you haven't completed the Foursquare API lab\n",
    "import folium # map rendering library"
   ]
  },
  {
   "cell_type": "markdown",
   "metadata": {},
   "source": [
    "### Plot of the Toronto's neighborhood "
   ]
  },
  {
   "cell_type": "markdown",
   "metadata": {},
   "source": [
    "Let's get the geographical coordinates of Toronto."
   ]
  },
  {
   "cell_type": "code",
   "execution_count": 11,
   "metadata": {},
   "outputs": [
    {
     "name": "stdout",
     "output_type": "stream",
     "text": [
      "The geograpical coordinate of Toronto are 43.6534817, -79.3839347.\n"
     ]
    }
   ],
   "source": [
    "address = 'Toronto, CA'\n",
    "\n",
    "geolocator = Nominatim(user_agent=\"toronto_explorer\")\n",
    "location = geolocator.geocode(address)\n",
    "toronto_latitude = location.latitude\n",
    "toronto_longitude = location.longitude\n",
    "print('The geograpical coordinate of Toronto are {}, {}.'.format(toronto_latitude, toronto_longitude))"
   ]
  },
  {
   "cell_type": "markdown",
   "metadata": {},
   "source": [
    "Now let's plot the get Toronto's neighborhood"
   ]
  },
  {
   "cell_type": "code",
   "execution_count": 12,
   "metadata": {
    "scrolled": false
   },
   "outputs": [
    {
     "data": {
      "text/html": [
       "<div style=\"width:100%;\"><div style=\"position:relative;width:100%;height:0;padding-bottom:60%;\"><iframe src=\"about:blank\" style=\"position:absolute;width:100%;height:100%;left:0;top:0;border:none !important;\" data-html=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 onload=\"this.contentDocument.open();this.contentDocument.write(atob(this.getAttribute('data-html')));this.contentDocument.close();\" allowfullscreen webkitallowfullscreen mozallowfullscreen></iframe></div></div>"
      ],
      "text/plain": [
       "<folium.folium.Map at 0x1c4cb427448>"
      ]
     },
     "execution_count": 12,
     "metadata": {},
     "output_type": "execute_result"
    }
   ],
   "source": [
    "# create map of Toronto using latitude and longitude values\n",
    "map_newyork = folium.Map(location=[toronto_latitude, toronto_longitude], zoom_start=10)\n",
    "\n",
    "# add markers to map\n",
    "for lat, lng, borough, neighborhood in zip(canada_df['Latitude'], canada_df['Longitude'], canada_df['Borough'], canada_df['Neighborhood']):\n",
    "    label = '{}, {}'.format(neighborhood, borough)\n",
    "    label = folium.Popup(label, parse_html=True)\n",
    "    folium.CircleMarker(\n",
    "        [lat, lng],\n",
    "        radius=5,\n",
    "        popup=label,\n",
    "        color='blue',\n",
    "        fill=True,\n",
    "        fill_color='#3186cc',\n",
    "        fill_opacity=0.7,\n",
    "        parse_html=False).add_to(map_newyork)  \n",
    "    \n",
    "map_newyork"
   ]
  },
  {
   "cell_type": "markdown",
   "metadata": {},
   "source": [
    "## Central Toronto Exploration"
   ]
  },
  {
   "cell_type": "code",
   "execution_count": 13,
   "metadata": {},
   "outputs": [
    {
     "data": {
      "text/html": [
       "<div>\n",
       "<style scoped>\n",
       "    .dataframe tbody tr th:only-of-type {\n",
       "        vertical-align: middle;\n",
       "    }\n",
       "\n",
       "    .dataframe tbody tr th {\n",
       "        vertical-align: top;\n",
       "    }\n",
       "\n",
       "    .dataframe thead th {\n",
       "        text-align: right;\n",
       "    }\n",
       "</style>\n",
       "<table border=\"1\" class=\"dataframe\">\n",
       "  <thead>\n",
       "    <tr style=\"text-align: right;\">\n",
       "      <th></th>\n",
       "      <th>PostalCode</th>\n",
       "      <th>Borough</th>\n",
       "      <th>Neighborhood</th>\n",
       "      <th>Latitude</th>\n",
       "      <th>Longitude</th>\n",
       "    </tr>\n",
       "  </thead>\n",
       "  <tbody>\n",
       "    <tr>\n",
       "      <th>0</th>\n",
       "      <td>M4N</td>\n",
       "      <td>Central Toronto</td>\n",
       "      <td>Lawrence Park</td>\n",
       "      <td>43.72898</td>\n",
       "      <td>-79.39173</td>\n",
       "    </tr>\n",
       "    <tr>\n",
       "      <th>1</th>\n",
       "      <td>M5N</td>\n",
       "      <td>Central Toronto</td>\n",
       "      <td>Roselawn</td>\n",
       "      <td>43.71194</td>\n",
       "      <td>-79.41912</td>\n",
       "    </tr>\n",
       "    <tr>\n",
       "      <th>2</th>\n",
       "      <td>M4P</td>\n",
       "      <td>Central Toronto</td>\n",
       "      <td>Davisville North</td>\n",
       "      <td>43.71276</td>\n",
       "      <td>-79.38851</td>\n",
       "    </tr>\n",
       "    <tr>\n",
       "      <th>3</th>\n",
       "      <td>M5P</td>\n",
       "      <td>Central Toronto</td>\n",
       "      <td>Forest Hill North &amp; West, Forest Hill Road Park</td>\n",
       "      <td>43.69479</td>\n",
       "      <td>-79.41440</td>\n",
       "    </tr>\n",
       "    <tr>\n",
       "      <th>4</th>\n",
       "      <td>M4R</td>\n",
       "      <td>Central Toronto</td>\n",
       "      <td>North Toronto West,  Lawrence Park</td>\n",
       "      <td>43.71452</td>\n",
       "      <td>-79.40696</td>\n",
       "    </tr>\n",
       "    <tr>\n",
       "      <th>5</th>\n",
       "      <td>M5R</td>\n",
       "      <td>Central Toronto</td>\n",
       "      <td>The Annex, North Midtown, Yorkville</td>\n",
       "      <td>43.67484</td>\n",
       "      <td>-79.40185</td>\n",
       "    </tr>\n",
       "    <tr>\n",
       "      <th>6</th>\n",
       "      <td>M4S</td>\n",
       "      <td>Central Toronto</td>\n",
       "      <td>Davisville</td>\n",
       "      <td>43.70340</td>\n",
       "      <td>-79.38596</td>\n",
       "    </tr>\n",
       "    <tr>\n",
       "      <th>7</th>\n",
       "      <td>M4T</td>\n",
       "      <td>Central Toronto</td>\n",
       "      <td>Moore Park, Summerhill East</td>\n",
       "      <td>43.69066</td>\n",
       "      <td>-79.38356</td>\n",
       "    </tr>\n",
       "    <tr>\n",
       "      <th>8</th>\n",
       "      <td>M4V</td>\n",
       "      <td>Central Toronto</td>\n",
       "      <td>Summerhill West, Rathnelly, South Hill, Forest...</td>\n",
       "      <td>43.68569</td>\n",
       "      <td>-79.40232</td>\n",
       "    </tr>\n",
       "  </tbody>\n",
       "</table>\n",
       "</div>"
      ],
      "text/plain": [
       "  PostalCode          Borough  \\\n",
       "0        M4N  Central Toronto   \n",
       "1        M5N  Central Toronto   \n",
       "2        M4P  Central Toronto   \n",
       "3        M5P  Central Toronto   \n",
       "4        M4R  Central Toronto   \n",
       "5        M5R  Central Toronto   \n",
       "6        M4S  Central Toronto   \n",
       "7        M4T  Central Toronto   \n",
       "8        M4V  Central Toronto   \n",
       "\n",
       "                                        Neighborhood  Latitude  Longitude  \n",
       "0                                      Lawrence Park  43.72898  -79.39173  \n",
       "1                                           Roselawn  43.71194  -79.41912  \n",
       "2                                   Davisville North  43.71276  -79.38851  \n",
       "3    Forest Hill North & West, Forest Hill Road Park  43.69479  -79.41440  \n",
       "4                 North Toronto West,  Lawrence Park  43.71452  -79.40696  \n",
       "5                The Annex, North Midtown, Yorkville  43.67484  -79.40185  \n",
       "6                                         Davisville  43.70340  -79.38596  \n",
       "7                        Moore Park, Summerhill East  43.69066  -79.38356  \n",
       "8  Summerhill West, Rathnelly, South Hill, Forest...  43.68569  -79.40232  "
      ]
     },
     "execution_count": 13,
     "metadata": {},
     "output_type": "execute_result"
    }
   ],
   "source": [
    "# create a data set with the Neighborhood of Central Toronto\n",
    "central_toronto = canada_df[canada_df['Borough'] == \"Central Toronto\"].reset_index(drop=True)\n",
    "central_toronto"
   ]
  },
  {
   "cell_type": "markdown",
   "metadata": {},
   "source": [
    "### Plot Central Toronto's neighborhood"
   ]
  },
  {
   "cell_type": "code",
   "execution_count": 14,
   "metadata": {},
   "outputs": [
    {
     "data": {
      "text/html": [
       "<div style=\"width:100%;\"><div style=\"position:relative;width:100%;height:0;padding-bottom:60%;\"><iframe src=\"about:blank\" style=\"position:absolute;width:100%;height:100%;left:0;top:0;border:none !important;\" data-html=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 onload=\"this.contentDocument.open();this.contentDocument.write(atob(this.getAttribute('data-html')));this.contentDocument.close();\" allowfullscreen webkitallowfullscreen mozallowfullscreen></iframe></div></div>"
      ],
      "text/plain": [
       "<folium.folium.Map at 0x1c4cb411fc8>"
      ]
     },
     "execution_count": 14,
     "metadata": {},
     "output_type": "execute_result"
    }
   ],
   "source": [
    "# The geograpical coordinate of Central Toronto\n",
    "\n",
    "address = 'Central Toronto, Toronto'\n",
    "\n",
    "geolocator = Nominatim(user_agent=\"toronto_explorer\")\n",
    "location = geolocator.geocode(address)\n",
    "latitude = location.latitude\n",
    "longitude = location.longitude\n",
    "\n",
    "# create map of Central Toronto using latitude and longitude values\n",
    "map_newyork = folium.Map(location=[latitude, longitude], zoom_start=12)\n",
    "\n",
    "# add markers to map\n",
    "for lat, lng, borough, neighborhood in zip(central_toronto['Latitude'], central_toronto['Longitude'], central_toronto['Borough'], central_toronto['Neighborhood']):\n",
    "    label = '{}, {}'.format(neighborhood, borough)\n",
    "    label = folium.Popup(label, parse_html=True)\n",
    "    folium.CircleMarker(\n",
    "        [lat, lng],\n",
    "        radius=5,\n",
    "        popup=label,\n",
    "        color='blue',\n",
    "        fill=True,\n",
    "        fill_color='#3186cc',\n",
    "        fill_opacity=0.7,\n",
    "        parse_html=False).add_to(map_newyork)  \n",
    "    \n",
    "map_newyork"
   ]
  },
  {
   "cell_type": "markdown",
   "metadata": {},
   "source": [
    "### The top 100 venues at the Central Toronto Neighborhood (1KM)"
   ]
  },
  {
   "cell_type": "code",
   "execution_count": 27,
   "metadata": {},
   "outputs": [],
   "source": [
    "CLIENT_ID = '' # your Foursquare ID\n",
    "CLIENT_SECRET = '' # your Foursquare Secret\n",
    "VERSION = '20180605' # Foursquare API version\n",
    "\n",
    "#print('Your credentails:')\n",
    "#print('CLIENT_ID: ' + CLIENT_ID)\n",
    "#print('CLIENT_SECRET:' + CLIENT_SECRET)"
   ]
  },
  {
   "cell_type": "code",
   "execution_count": 16,
   "metadata": {},
   "outputs": [],
   "source": [
    "# Function to get all the venues around the Central Toronto\n",
    "\n",
    "def getNearbyVenues(names, latitudes, longitudes, radius=1000):\n",
    "    \n",
    "    LIMIT = 500\n",
    "    \n",
    "    venues_list=[]\n",
    "    for name, lat, lng in zip(names, latitudes, longitudes):\n",
    "               \n",
    "        # create the API request URL\n",
    "        url = 'https://api.foursquare.com/v2/venues/explore?&client_id={}&client_secret={}&v={}&ll={},{}&radius={}&limit={}'.format(\n",
    "            CLIENT_ID, \n",
    "            CLIENT_SECRET, \n",
    "            VERSION, \n",
    "            lat, \n",
    "            lng, \n",
    "            radius, \n",
    "            LIMIT)\n",
    "            \n",
    "        # make the GET request\n",
    "        results = requests.get(url).json()[\"response\"]['groups'][0]['items']\n",
    "        \n",
    "        # return only relevant information for each nearby venue\n",
    "        venues_list.append([(\n",
    "            name, \n",
    "            lat, \n",
    "            lng, \n",
    "            v['venue']['name'], \n",
    "            v['venue']['location']['lat'], \n",
    "            v['venue']['location']['lng'],  \n",
    "            v['venue']['categories'][0]['name']) for v in results])\n",
    "\n",
    "    nearby_venues = pd.DataFrame([item for venue_list in venues_list for item in venue_list])\n",
    "    nearby_venues.columns = ['Neighborhood', \n",
    "                  'Neighborhood Latitude', \n",
    "                  'Neighborhood Longitude', \n",
    "                  'Venue', \n",
    "                  'Venue Latitude', \n",
    "                  'Venue Longitude', \n",
    "                  'Venue Category']\n",
    "    \n",
    "    return(nearby_venues)"
   ]
  },
  {
   "cell_type": "code",
   "execution_count": 17,
   "metadata": {},
   "outputs": [
    {
     "data": {
      "text/html": [
       "<div>\n",
       "<style scoped>\n",
       "    .dataframe tbody tr th:only-of-type {\n",
       "        vertical-align: middle;\n",
       "    }\n",
       "\n",
       "    .dataframe tbody tr th {\n",
       "        vertical-align: top;\n",
       "    }\n",
       "\n",
       "    .dataframe thead th {\n",
       "        text-align: right;\n",
       "    }\n",
       "</style>\n",
       "<table border=\"1\" class=\"dataframe\">\n",
       "  <thead>\n",
       "    <tr style=\"text-align: right;\">\n",
       "      <th></th>\n",
       "      <th>Neighborhood</th>\n",
       "      <th>Neighborhood Latitude</th>\n",
       "      <th>Neighborhood Longitude</th>\n",
       "      <th>Venue</th>\n",
       "      <th>Venue Latitude</th>\n",
       "      <th>Venue Longitude</th>\n",
       "      <th>Venue Category</th>\n",
       "    </tr>\n",
       "  </thead>\n",
       "  <tbody>\n",
       "    <tr>\n",
       "      <th>0</th>\n",
       "      <td>Lawrence Park</td>\n",
       "      <td>43.72898</td>\n",
       "      <td>-79.39173</td>\n",
       "      <td>Lawrence Park Ravine</td>\n",
       "      <td>43.726963</td>\n",
       "      <td>-79.394382</td>\n",
       "      <td>Park</td>\n",
       "    </tr>\n",
       "    <tr>\n",
       "      <th>1</th>\n",
       "      <td>Lawrence Park</td>\n",
       "      <td>43.72898</td>\n",
       "      <td>-79.39173</td>\n",
       "      <td>For The Win Cafe</td>\n",
       "      <td>43.728636</td>\n",
       "      <td>-79.403255</td>\n",
       "      <td>Bubble Tea Shop</td>\n",
       "    </tr>\n",
       "    <tr>\n",
       "      <th>2</th>\n",
       "      <td>Lawrence Park</td>\n",
       "      <td>43.72898</td>\n",
       "      <td>-79.39173</td>\n",
       "      <td>T-buds</td>\n",
       "      <td>43.731247</td>\n",
       "      <td>-79.403640</td>\n",
       "      <td>Tea Room</td>\n",
       "    </tr>\n",
       "    <tr>\n",
       "      <th>3</th>\n",
       "      <td>Lawrence Park</td>\n",
       "      <td>43.72898</td>\n",
       "      <td>-79.39173</td>\n",
       "      <td>STACK</td>\n",
       "      <td>43.729311</td>\n",
       "      <td>-79.403241</td>\n",
       "      <td>BBQ Joint</td>\n",
       "    </tr>\n",
       "    <tr>\n",
       "      <th>4</th>\n",
       "      <td>Lawrence Park</td>\n",
       "      <td>43.72898</td>\n",
       "      <td>-79.39173</td>\n",
       "      <td>Granite Club</td>\n",
       "      <td>43.733043</td>\n",
       "      <td>-79.381986</td>\n",
       "      <td>Gym / Fitness Center</td>\n",
       "    </tr>\n",
       "  </tbody>\n",
       "</table>\n",
       "</div>"
      ],
      "text/plain": [
       "    Neighborhood  Neighborhood Latitude  Neighborhood Longitude  \\\n",
       "0  Lawrence Park               43.72898               -79.39173   \n",
       "1  Lawrence Park               43.72898               -79.39173   \n",
       "2  Lawrence Park               43.72898               -79.39173   \n",
       "3  Lawrence Park               43.72898               -79.39173   \n",
       "4  Lawrence Park               43.72898               -79.39173   \n",
       "\n",
       "                  Venue  Venue Latitude  Venue Longitude        Venue Category  \n",
       "0  Lawrence Park Ravine       43.726963       -79.394382                  Park  \n",
       "1      For The Win Cafe       43.728636       -79.403255       Bubble Tea Shop  \n",
       "2                T-buds       43.731247       -79.403640              Tea Room  \n",
       "3                 STACK       43.729311       -79.403241             BBQ Joint  \n",
       "4          Granite Club       43.733043       -79.381986  Gym / Fitness Center  "
      ]
     },
     "execution_count": 17,
     "metadata": {},
     "output_type": "execute_result"
    }
   ],
   "source": [
    "# DataSet with the venues at Central Toronto\n",
    "central_toronto_venues = getNearbyVenues(names=central_toronto['Neighborhood'],latitudes=central_toronto['Latitude'],longitudes=central_toronto['Longitude'])\n",
    "central_toronto_venues.head()"
   ]
  },
  {
   "cell_type": "code",
   "execution_count": 18,
   "metadata": {},
   "outputs": [
    {
     "data": {
      "text/plain": [
       "(584, 7)"
      ]
     },
     "execution_count": 18,
     "metadata": {},
     "output_type": "execute_result"
    }
   ],
   "source": [
    "central_toronto_venues.shape"
   ]
  },
  {
   "cell_type": "markdown",
   "metadata": {},
   "source": [
    "### Count of venues by Neighborhood"
   ]
  },
  {
   "cell_type": "code",
   "execution_count": 19,
   "metadata": {},
   "outputs": [
    {
     "data": {
      "text/plain": [
       "Neighborhood\n",
       "Davisville                                                           100\n",
       "Davisville North                                                      97\n",
       "Forest Hill North & West, Forest Hill Road Park                       41\n",
       "Lawrence Park                                                         38\n",
       "Moore Park, Summerhill East                                           66\n",
       "North Toronto West,  Lawrence Park                                    47\n",
       "Roselawn                                                               6\n",
       "Summerhill West, Rathnelly, South Hill, Forest Hill SE, Deer Park     89\n",
       "The Annex, North Midtown, Yorkville                                  100\n",
       "Name: Venue, dtype: int64"
      ]
     },
     "execution_count": 19,
     "metadata": {},
     "output_type": "execute_result"
    }
   ],
   "source": [
    "central_toronto_venues.groupby('Neighborhood').count().Venue"
   ]
  },
  {
   "cell_type": "code",
   "execution_count": 20,
   "metadata": {},
   "outputs": [
    {
     "name": "stdout",
     "output_type": "stream",
     "text": [
      "There are 129 uniques categories.\n"
     ]
    }
   ],
   "source": [
    "print('There are {} uniques categories.'.format(len(central_toronto_venues['Venue Category'].unique())))"
   ]
  },
  {
   "cell_type": "markdown",
   "metadata": {},
   "source": [
    "### Most Common Venues per Neighborhood"
   ]
  },
  {
   "cell_type": "code",
   "execution_count": 21,
   "metadata": {},
   "outputs": [
    {
     "data": {
      "text/html": [
       "<div>\n",
       "<style scoped>\n",
       "    .dataframe tbody tr th:only-of-type {\n",
       "        vertical-align: middle;\n",
       "    }\n",
       "\n",
       "    .dataframe tbody tr th {\n",
       "        vertical-align: top;\n",
       "    }\n",
       "\n",
       "    .dataframe thead th {\n",
       "        text-align: right;\n",
       "    }\n",
       "</style>\n",
       "<table border=\"1\" class=\"dataframe\">\n",
       "  <thead>\n",
       "    <tr style=\"text-align: right;\">\n",
       "      <th></th>\n",
       "      <th>Neighborhood</th>\n",
       "      <th>1st Most Common Venue</th>\n",
       "      <th>2nd Most Common Venue</th>\n",
       "      <th>3rd Most Common Venue</th>\n",
       "      <th>4th Most Common Venue</th>\n",
       "      <th>5th Most Common Venue</th>\n",
       "      <th>6th Most Common Venue</th>\n",
       "      <th>7th Most Common Venue</th>\n",
       "      <th>8th Most Common Venue</th>\n",
       "      <th>9th Most Common Venue</th>\n",
       "      <th>10th Most Common Venue</th>\n",
       "    </tr>\n",
       "  </thead>\n",
       "  <tbody>\n",
       "    <tr>\n",
       "      <th>0</th>\n",
       "      <td>Davisville</td>\n",
       "      <td>Italian Restaurant</td>\n",
       "      <td>Sushi Restaurant</td>\n",
       "      <td>Indian Restaurant</td>\n",
       "      <td>Coffee Shop</td>\n",
       "      <td>Café</td>\n",
       "      <td>Restaurant</td>\n",
       "      <td>Dessert Shop</td>\n",
       "      <td>Pizza Place</td>\n",
       "      <td>Bakery</td>\n",
       "      <td>Gym</td>\n",
       "    </tr>\n",
       "    <tr>\n",
       "      <th>1</th>\n",
       "      <td>Davisville North</td>\n",
       "      <td>Coffee Shop</td>\n",
       "      <td>Pizza Place</td>\n",
       "      <td>Italian Restaurant</td>\n",
       "      <td>Café</td>\n",
       "      <td>Dessert Shop</td>\n",
       "      <td>Sushi Restaurant</td>\n",
       "      <td>Fast Food Restaurant</td>\n",
       "      <td>Restaurant</td>\n",
       "      <td>Yoga Studio</td>\n",
       "      <td>Ramen Restaurant</td>\n",
       "    </tr>\n",
       "    <tr>\n",
       "      <th>2</th>\n",
       "      <td>Forest Hill North &amp; West, Forest Hill Road Park</td>\n",
       "      <td>Italian Restaurant</td>\n",
       "      <td>Café</td>\n",
       "      <td>Park</td>\n",
       "      <td>Coffee Shop</td>\n",
       "      <td>Sushi Restaurant</td>\n",
       "      <td>Gym / Fitness Center</td>\n",
       "      <td>Bank</td>\n",
       "      <td>Pharmacy</td>\n",
       "      <td>Juice Bar</td>\n",
       "      <td>Burger Joint</td>\n",
       "    </tr>\n",
       "    <tr>\n",
       "      <th>3</th>\n",
       "      <td>Lawrence Park</td>\n",
       "      <td>Coffee Shop</td>\n",
       "      <td>Bank</td>\n",
       "      <td>Bus Line</td>\n",
       "      <td>Italian Restaurant</td>\n",
       "      <td>Café</td>\n",
       "      <td>Frozen Yogurt Shop</td>\n",
       "      <td>Hobby Shop</td>\n",
       "      <td>Gastropub</td>\n",
       "      <td>Sandwich Place</td>\n",
       "      <td>Restaurant</td>\n",
       "    </tr>\n",
       "    <tr>\n",
       "      <th>4</th>\n",
       "      <td>Moore Park, Summerhill East</td>\n",
       "      <td>Coffee Shop</td>\n",
       "      <td>Grocery Store</td>\n",
       "      <td>Italian Restaurant</td>\n",
       "      <td>Gym</td>\n",
       "      <td>Park</td>\n",
       "      <td>Thai Restaurant</td>\n",
       "      <td>Pharmacy</td>\n",
       "      <td>Sushi Restaurant</td>\n",
       "      <td>Pizza Place</td>\n",
       "      <td>Pub</td>\n",
       "    </tr>\n",
       "    <tr>\n",
       "      <th>5</th>\n",
       "      <td>North Toronto West,  Lawrence Park</td>\n",
       "      <td>Coffee Shop</td>\n",
       "      <td>Italian Restaurant</td>\n",
       "      <td>Restaurant</td>\n",
       "      <td>Park</td>\n",
       "      <td>Sporting Goods Shop</td>\n",
       "      <td>Café</td>\n",
       "      <td>Mexican Restaurant</td>\n",
       "      <td>Diner</td>\n",
       "      <td>Skating Rink</td>\n",
       "      <td>Electronics Store</td>\n",
       "    </tr>\n",
       "    <tr>\n",
       "      <th>6</th>\n",
       "      <td>Roselawn</td>\n",
       "      <td>Pharmacy</td>\n",
       "      <td>Trail</td>\n",
       "      <td>Café</td>\n",
       "      <td>Skating Rink</td>\n",
       "      <td>Bank</td>\n",
       "      <td>Dog Run</td>\n",
       "      <td>Discount Store</td>\n",
       "      <td>Donut Shop</td>\n",
       "      <td>Dry Cleaner</td>\n",
       "      <td>French Restaurant</td>\n",
       "    </tr>\n",
       "    <tr>\n",
       "      <th>7</th>\n",
       "      <td>Summerhill West, Rathnelly, South Hill, Forest...</td>\n",
       "      <td>Coffee Shop</td>\n",
       "      <td>Park</td>\n",
       "      <td>Sushi Restaurant</td>\n",
       "      <td>Bank</td>\n",
       "      <td>Italian Restaurant</td>\n",
       "      <td>Café</td>\n",
       "      <td>Thai Restaurant</td>\n",
       "      <td>Grocery Store</td>\n",
       "      <td>Gym</td>\n",
       "      <td>Sandwich Place</td>\n",
       "    </tr>\n",
       "    <tr>\n",
       "      <th>8</th>\n",
       "      <td>The Annex, North Midtown, Yorkville</td>\n",
       "      <td>Italian Restaurant</td>\n",
       "      <td>Coffee Shop</td>\n",
       "      <td>French Restaurant</td>\n",
       "      <td>Café</td>\n",
       "      <td>Boutique</td>\n",
       "      <td>Museum</td>\n",
       "      <td>Vegetarian / Vegan Restaurant</td>\n",
       "      <td>Indian Restaurant</td>\n",
       "      <td>Spa</td>\n",
       "      <td>Restaurant</td>\n",
       "    </tr>\n",
       "  </tbody>\n",
       "</table>\n",
       "</div>"
      ],
      "text/plain": [
       "                                        Neighborhood 1st Most Common Venue  \\\n",
       "0                                         Davisville    Italian Restaurant   \n",
       "1                                   Davisville North           Coffee Shop   \n",
       "2    Forest Hill North & West, Forest Hill Road Park    Italian Restaurant   \n",
       "3                                      Lawrence Park           Coffee Shop   \n",
       "4                        Moore Park, Summerhill East           Coffee Shop   \n",
       "5                 North Toronto West,  Lawrence Park           Coffee Shop   \n",
       "6                                           Roselawn              Pharmacy   \n",
       "7  Summerhill West, Rathnelly, South Hill, Forest...           Coffee Shop   \n",
       "8                The Annex, North Midtown, Yorkville    Italian Restaurant   \n",
       "\n",
       "  2nd Most Common Venue 3rd Most Common Venue 4th Most Common Venue  \\\n",
       "0      Sushi Restaurant     Indian Restaurant           Coffee Shop   \n",
       "1           Pizza Place    Italian Restaurant                  Café   \n",
       "2                  Café                  Park           Coffee Shop   \n",
       "3                  Bank              Bus Line    Italian Restaurant   \n",
       "4         Grocery Store    Italian Restaurant                   Gym   \n",
       "5    Italian Restaurant            Restaurant                  Park   \n",
       "6                 Trail                  Café          Skating Rink   \n",
       "7                  Park      Sushi Restaurant                  Bank   \n",
       "8           Coffee Shop     French Restaurant                  Café   \n",
       "\n",
       "  5th Most Common Venue 6th Most Common Venue          7th Most Common Venue  \\\n",
       "0                  Café            Restaurant                   Dessert Shop   \n",
       "1          Dessert Shop      Sushi Restaurant           Fast Food Restaurant   \n",
       "2      Sushi Restaurant  Gym / Fitness Center                           Bank   \n",
       "3                  Café    Frozen Yogurt Shop                     Hobby Shop   \n",
       "4                  Park       Thai Restaurant                       Pharmacy   \n",
       "5   Sporting Goods Shop                  Café             Mexican Restaurant   \n",
       "6                  Bank               Dog Run                 Discount Store   \n",
       "7    Italian Restaurant                  Café                Thai Restaurant   \n",
       "8              Boutique                Museum  Vegetarian / Vegan Restaurant   \n",
       "\n",
       "  8th Most Common Venue 9th Most Common Venue 10th Most Common Venue  \n",
       "0           Pizza Place                Bakery                    Gym  \n",
       "1            Restaurant           Yoga Studio       Ramen Restaurant  \n",
       "2              Pharmacy             Juice Bar           Burger Joint  \n",
       "3             Gastropub        Sandwich Place             Restaurant  \n",
       "4      Sushi Restaurant           Pizza Place                    Pub  \n",
       "5                 Diner          Skating Rink      Electronics Store  \n",
       "6            Donut Shop           Dry Cleaner      French Restaurant  \n",
       "7         Grocery Store                   Gym         Sandwich Place  \n",
       "8     Indian Restaurant                   Spa             Restaurant  "
      ]
     },
     "execution_count": 21,
     "metadata": {},
     "output_type": "execute_result"
    }
   ],
   "source": [
    "# one hot encoding\n",
    "central_toronto_onehot = pd.get_dummies(central_toronto_venues[['Venue Category']], prefix=\"\", prefix_sep=\"\")\n",
    "\n",
    "# add neighborhood column back to dataframe\n",
    "central_toronto_onehot['Neighborhood'] = central_toronto_venues['Neighborhood'] \n",
    "\n",
    "# move neighborhood column to the first column\n",
    "fixed_columns = [central_toronto_onehot.columns[-1]] + list(central_toronto_onehot.columns[:-1])\n",
    "central_toronto_onehot = central_toronto_onehot[fixed_columns]\n",
    "\n",
    "# agroup the neighborhood\n",
    "central_toronto_grouped = central_toronto_onehot.groupby('Neighborhood').mean().reset_index()\n",
    "\n",
    "# Function to return the most common venues per beighborhood\n",
    "def return_most_common_venues(row, num_top_venues):\n",
    "    row_categories = row.iloc[1:]\n",
    "    row_categories_sorted = row_categories.sort_values(ascending=False)\n",
    "    \n",
    "    return row_categories_sorted.index.values[0:num_top_venues]\n",
    "\n",
    "num_top_venues = 10\n",
    "\n",
    "indicators = ['st', 'nd', 'rd']\n",
    "\n",
    "# create columns according to number of top venues\n",
    "columns = ['Neighborhood']\n",
    "for ind in np.arange(num_top_venues):\n",
    "    try:\n",
    "        columns.append('{}{} Most Common Venue'.format(ind+1, indicators[ind]))\n",
    "    except:\n",
    "        columns.append('{}th Most Common Venue'.format(ind+1))\n",
    "\n",
    "# create a new dataframe\n",
    "neighborhoods_venues_sorted = pd.DataFrame(columns=columns)\n",
    "neighborhoods_venues_sorted['Neighborhood'] = central_toronto_grouped['Neighborhood']\n",
    "\n",
    "for ind in np.arange(central_toronto_grouped.shape[0]):\n",
    "    neighborhoods_venues_sorted.iloc[ind, 1:] = return_most_common_venues(central_toronto_grouped.iloc[ind, :], num_top_venues)\n",
    "\n",
    "neighborhoods_venues_sorted"
   ]
  },
  {
   "cell_type": "markdown",
   "metadata": {},
   "source": [
    "## Cluster Neighborhood (into 3 clusters)"
   ]
  },
  {
   "cell_type": "code",
   "execution_count": 22,
   "metadata": {},
   "outputs": [
    {
     "data": {
      "text/plain": [
       "array([0, 0, 2, 2, 2, 0, 1, 2, 0])"
      ]
     },
     "execution_count": 22,
     "metadata": {},
     "output_type": "execute_result"
    }
   ],
   "source": [
    "# set number of clusters\n",
    "kclusters = 3\n",
    "\n",
    "central_toronto_grouped_clustering = central_toronto_grouped.drop('Neighborhood', 1)\n",
    "\n",
    "# run k-means clustering\n",
    "kmeans = KMeans(n_clusters=kclusters, random_state=0).fit(central_toronto_grouped_clustering)\n",
    "\n",
    "# check cluster labels generated for each row in the dataframe\n",
    "kmeans.labels_[0:10] "
   ]
  },
  {
   "cell_type": "code",
   "execution_count": 23,
   "metadata": {},
   "outputs": [],
   "source": [
    "# add clustering labels\n",
    "neighborhoods_venues_sorted.insert(0, 'Cluster Labels', kmeans.labels_)\n",
    "\n",
    "central_toronto_merged = central_toronto\n",
    "\n",
    "# merge toronto_grouped with toronto_data to add latitude/longitude for each neighborhood\n",
    "central_toronto_merged = central_toronto_merged.join(neighborhoods_venues_sorted.set_index('Neighborhood'), on='Neighborhood')"
   ]
  },
  {
   "cell_type": "code",
   "execution_count": 24,
   "metadata": {
    "scrolled": true
   },
   "outputs": [
    {
     "data": {
      "text/html": [
       "<div>\n",
       "<style scoped>\n",
       "    .dataframe tbody tr th:only-of-type {\n",
       "        vertical-align: middle;\n",
       "    }\n",
       "\n",
       "    .dataframe tbody tr th {\n",
       "        vertical-align: top;\n",
       "    }\n",
       "\n",
       "    .dataframe thead th {\n",
       "        text-align: right;\n",
       "    }\n",
       "</style>\n",
       "<table border=\"1\" class=\"dataframe\">\n",
       "  <thead>\n",
       "    <tr style=\"text-align: right;\">\n",
       "      <th></th>\n",
       "      <th>PostalCode</th>\n",
       "      <th>Borough</th>\n",
       "      <th>Neighborhood</th>\n",
       "      <th>Latitude</th>\n",
       "      <th>Longitude</th>\n",
       "      <th>Cluster Labels</th>\n",
       "      <th>1st Most Common Venue</th>\n",
       "      <th>2nd Most Common Venue</th>\n",
       "      <th>3rd Most Common Venue</th>\n",
       "      <th>4th Most Common Venue</th>\n",
       "      <th>5th Most Common Venue</th>\n",
       "      <th>6th Most Common Venue</th>\n",
       "      <th>7th Most Common Venue</th>\n",
       "      <th>8th Most Common Venue</th>\n",
       "      <th>9th Most Common Venue</th>\n",
       "      <th>10th Most Common Venue</th>\n",
       "    </tr>\n",
       "  </thead>\n",
       "  <tbody>\n",
       "    <tr>\n",
       "      <th>0</th>\n",
       "      <td>M4N</td>\n",
       "      <td>Central Toronto</td>\n",
       "      <td>Lawrence Park</td>\n",
       "      <td>43.72898</td>\n",
       "      <td>-79.39173</td>\n",
       "      <td>2</td>\n",
       "      <td>Coffee Shop</td>\n",
       "      <td>Bank</td>\n",
       "      <td>Bus Line</td>\n",
       "      <td>Italian Restaurant</td>\n",
       "      <td>Café</td>\n",
       "      <td>Frozen Yogurt Shop</td>\n",
       "      <td>Hobby Shop</td>\n",
       "      <td>Gastropub</td>\n",
       "      <td>Sandwich Place</td>\n",
       "      <td>Restaurant</td>\n",
       "    </tr>\n",
       "    <tr>\n",
       "      <th>1</th>\n",
       "      <td>M5N</td>\n",
       "      <td>Central Toronto</td>\n",
       "      <td>Roselawn</td>\n",
       "      <td>43.71194</td>\n",
       "      <td>-79.41912</td>\n",
       "      <td>1</td>\n",
       "      <td>Pharmacy</td>\n",
       "      <td>Trail</td>\n",
       "      <td>Café</td>\n",
       "      <td>Skating Rink</td>\n",
       "      <td>Bank</td>\n",
       "      <td>Dog Run</td>\n",
       "      <td>Discount Store</td>\n",
       "      <td>Donut Shop</td>\n",
       "      <td>Dry Cleaner</td>\n",
       "      <td>French Restaurant</td>\n",
       "    </tr>\n",
       "    <tr>\n",
       "      <th>2</th>\n",
       "      <td>M4P</td>\n",
       "      <td>Central Toronto</td>\n",
       "      <td>Davisville North</td>\n",
       "      <td>43.71276</td>\n",
       "      <td>-79.38851</td>\n",
       "      <td>0</td>\n",
       "      <td>Coffee Shop</td>\n",
       "      <td>Pizza Place</td>\n",
       "      <td>Italian Restaurant</td>\n",
       "      <td>Café</td>\n",
       "      <td>Dessert Shop</td>\n",
       "      <td>Sushi Restaurant</td>\n",
       "      <td>Fast Food Restaurant</td>\n",
       "      <td>Restaurant</td>\n",
       "      <td>Yoga Studio</td>\n",
       "      <td>Ramen Restaurant</td>\n",
       "    </tr>\n",
       "    <tr>\n",
       "      <th>3</th>\n",
       "      <td>M5P</td>\n",
       "      <td>Central Toronto</td>\n",
       "      <td>Forest Hill North &amp; West, Forest Hill Road Park</td>\n",
       "      <td>43.69479</td>\n",
       "      <td>-79.41440</td>\n",
       "      <td>2</td>\n",
       "      <td>Italian Restaurant</td>\n",
       "      <td>Café</td>\n",
       "      <td>Park</td>\n",
       "      <td>Coffee Shop</td>\n",
       "      <td>Sushi Restaurant</td>\n",
       "      <td>Gym / Fitness Center</td>\n",
       "      <td>Bank</td>\n",
       "      <td>Pharmacy</td>\n",
       "      <td>Juice Bar</td>\n",
       "      <td>Burger Joint</td>\n",
       "    </tr>\n",
       "    <tr>\n",
       "      <th>4</th>\n",
       "      <td>M4R</td>\n",
       "      <td>Central Toronto</td>\n",
       "      <td>North Toronto West,  Lawrence Park</td>\n",
       "      <td>43.71452</td>\n",
       "      <td>-79.40696</td>\n",
       "      <td>0</td>\n",
       "      <td>Coffee Shop</td>\n",
       "      <td>Italian Restaurant</td>\n",
       "      <td>Restaurant</td>\n",
       "      <td>Park</td>\n",
       "      <td>Sporting Goods Shop</td>\n",
       "      <td>Café</td>\n",
       "      <td>Mexican Restaurant</td>\n",
       "      <td>Diner</td>\n",
       "      <td>Skating Rink</td>\n",
       "      <td>Electronics Store</td>\n",
       "    </tr>\n",
       "    <tr>\n",
       "      <th>5</th>\n",
       "      <td>M5R</td>\n",
       "      <td>Central Toronto</td>\n",
       "      <td>The Annex, North Midtown, Yorkville</td>\n",
       "      <td>43.67484</td>\n",
       "      <td>-79.40185</td>\n",
       "      <td>0</td>\n",
       "      <td>Italian Restaurant</td>\n",
       "      <td>Coffee Shop</td>\n",
       "      <td>French Restaurant</td>\n",
       "      <td>Café</td>\n",
       "      <td>Boutique</td>\n",
       "      <td>Museum</td>\n",
       "      <td>Vegetarian / Vegan Restaurant</td>\n",
       "      <td>Indian Restaurant</td>\n",
       "      <td>Spa</td>\n",
       "      <td>Restaurant</td>\n",
       "    </tr>\n",
       "    <tr>\n",
       "      <th>6</th>\n",
       "      <td>M4S</td>\n",
       "      <td>Central Toronto</td>\n",
       "      <td>Davisville</td>\n",
       "      <td>43.70340</td>\n",
       "      <td>-79.38596</td>\n",
       "      <td>0</td>\n",
       "      <td>Italian Restaurant</td>\n",
       "      <td>Sushi Restaurant</td>\n",
       "      <td>Indian Restaurant</td>\n",
       "      <td>Coffee Shop</td>\n",
       "      <td>Café</td>\n",
       "      <td>Restaurant</td>\n",
       "      <td>Dessert Shop</td>\n",
       "      <td>Pizza Place</td>\n",
       "      <td>Bakery</td>\n",
       "      <td>Gym</td>\n",
       "    </tr>\n",
       "    <tr>\n",
       "      <th>7</th>\n",
       "      <td>M4T</td>\n",
       "      <td>Central Toronto</td>\n",
       "      <td>Moore Park, Summerhill East</td>\n",
       "      <td>43.69066</td>\n",
       "      <td>-79.38356</td>\n",
       "      <td>2</td>\n",
       "      <td>Coffee Shop</td>\n",
       "      <td>Grocery Store</td>\n",
       "      <td>Italian Restaurant</td>\n",
       "      <td>Gym</td>\n",
       "      <td>Park</td>\n",
       "      <td>Thai Restaurant</td>\n",
       "      <td>Pharmacy</td>\n",
       "      <td>Sushi Restaurant</td>\n",
       "      <td>Pizza Place</td>\n",
       "      <td>Pub</td>\n",
       "    </tr>\n",
       "    <tr>\n",
       "      <th>8</th>\n",
       "      <td>M4V</td>\n",
       "      <td>Central Toronto</td>\n",
       "      <td>Summerhill West, Rathnelly, South Hill, Forest...</td>\n",
       "      <td>43.68569</td>\n",
       "      <td>-79.40232</td>\n",
       "      <td>2</td>\n",
       "      <td>Coffee Shop</td>\n",
       "      <td>Park</td>\n",
       "      <td>Sushi Restaurant</td>\n",
       "      <td>Bank</td>\n",
       "      <td>Italian Restaurant</td>\n",
       "      <td>Café</td>\n",
       "      <td>Thai Restaurant</td>\n",
       "      <td>Grocery Store</td>\n",
       "      <td>Gym</td>\n",
       "      <td>Sandwich Place</td>\n",
       "    </tr>\n",
       "  </tbody>\n",
       "</table>\n",
       "</div>"
      ],
      "text/plain": [
       "  PostalCode          Borough  \\\n",
       "0        M4N  Central Toronto   \n",
       "1        M5N  Central Toronto   \n",
       "2        M4P  Central Toronto   \n",
       "3        M5P  Central Toronto   \n",
       "4        M4R  Central Toronto   \n",
       "5        M5R  Central Toronto   \n",
       "6        M4S  Central Toronto   \n",
       "7        M4T  Central Toronto   \n",
       "8        M4V  Central Toronto   \n",
       "\n",
       "                                        Neighborhood  Latitude  Longitude  \\\n",
       "0                                      Lawrence Park  43.72898  -79.39173   \n",
       "1                                           Roselawn  43.71194  -79.41912   \n",
       "2                                   Davisville North  43.71276  -79.38851   \n",
       "3    Forest Hill North & West, Forest Hill Road Park  43.69479  -79.41440   \n",
       "4                 North Toronto West,  Lawrence Park  43.71452  -79.40696   \n",
       "5                The Annex, North Midtown, Yorkville  43.67484  -79.40185   \n",
       "6                                         Davisville  43.70340  -79.38596   \n",
       "7                        Moore Park, Summerhill East  43.69066  -79.38356   \n",
       "8  Summerhill West, Rathnelly, South Hill, Forest...  43.68569  -79.40232   \n",
       "\n",
       "   Cluster Labels 1st Most Common Venue 2nd Most Common Venue  \\\n",
       "0               2           Coffee Shop                  Bank   \n",
       "1               1              Pharmacy                 Trail   \n",
       "2               0           Coffee Shop           Pizza Place   \n",
       "3               2    Italian Restaurant                  Café   \n",
       "4               0           Coffee Shop    Italian Restaurant   \n",
       "5               0    Italian Restaurant           Coffee Shop   \n",
       "6               0    Italian Restaurant      Sushi Restaurant   \n",
       "7               2           Coffee Shop         Grocery Store   \n",
       "8               2           Coffee Shop                  Park   \n",
       "\n",
       "  3rd Most Common Venue 4th Most Common Venue 5th Most Common Venue  \\\n",
       "0              Bus Line    Italian Restaurant                  Café   \n",
       "1                  Café          Skating Rink                  Bank   \n",
       "2    Italian Restaurant                  Café          Dessert Shop   \n",
       "3                  Park           Coffee Shop      Sushi Restaurant   \n",
       "4            Restaurant                  Park   Sporting Goods Shop   \n",
       "5     French Restaurant                  Café              Boutique   \n",
       "6     Indian Restaurant           Coffee Shop                  Café   \n",
       "7    Italian Restaurant                   Gym                  Park   \n",
       "8      Sushi Restaurant                  Bank    Italian Restaurant   \n",
       "\n",
       "  6th Most Common Venue          7th Most Common Venue 8th Most Common Venue  \\\n",
       "0    Frozen Yogurt Shop                     Hobby Shop             Gastropub   \n",
       "1               Dog Run                 Discount Store            Donut Shop   \n",
       "2      Sushi Restaurant           Fast Food Restaurant            Restaurant   \n",
       "3  Gym / Fitness Center                           Bank              Pharmacy   \n",
       "4                  Café             Mexican Restaurant                 Diner   \n",
       "5                Museum  Vegetarian / Vegan Restaurant     Indian Restaurant   \n",
       "6            Restaurant                   Dessert Shop           Pizza Place   \n",
       "7       Thai Restaurant                       Pharmacy      Sushi Restaurant   \n",
       "8                  Café                Thai Restaurant         Grocery Store   \n",
       "\n",
       "  9th Most Common Venue 10th Most Common Venue  \n",
       "0        Sandwich Place             Restaurant  \n",
       "1           Dry Cleaner      French Restaurant  \n",
       "2           Yoga Studio       Ramen Restaurant  \n",
       "3             Juice Bar           Burger Joint  \n",
       "4          Skating Rink      Electronics Store  \n",
       "5                   Spa             Restaurant  \n",
       "6                Bakery                    Gym  \n",
       "7           Pizza Place                    Pub  \n",
       "8                   Gym         Sandwich Place  "
      ]
     },
     "execution_count": 24,
     "metadata": {},
     "output_type": "execute_result"
    }
   ],
   "source": [
    "central_toronto_merged"
   ]
  },
  {
   "cell_type": "code",
   "execution_count": 25,
   "metadata": {},
   "outputs": [
    {
     "data": {
      "text/html": [
       "<div style=\"width:100%;\"><div style=\"position:relative;width:100%;height:0;padding-bottom:60%;\"><iframe src=\"about:blank\" style=\"position:absolute;width:100%;height:100%;left:0;top:0;border:none !important;\" data-html=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 onload=\"this.contentDocument.open();this.contentDocument.write(atob(this.getAttribute('data-html')));this.contentDocument.close();\" allowfullscreen webkitallowfullscreen mozallowfullscreen></iframe></div></div>"
      ],
      "text/plain": [
       "<folium.folium.Map at 0x1c4cb78fa88>"
      ]
     },
     "execution_count": 25,
     "metadata": {},
     "output_type": "execute_result"
    }
   ],
   "source": [
    "# create map\n",
    "map_clusters = folium.Map(location=[latitude, longitude], zoom_start=11)\n",
    "\n",
    "# set color scheme for the clusters\n",
    "x = np.arange(kclusters)\n",
    "ys = [i + x + (i*x)**2 for i in range(kclusters)]\n",
    "colors_array = cm.rainbow(np.linspace(0, 1, len(ys)))\n",
    "rainbow = [colors.rgb2hex(i) for i in colors_array]\n",
    "\n",
    "# add markers to the map\n",
    "markers_colors = []\n",
    "for lat, lon, poi, cluster in zip(central_toronto_merged['Latitude'], central_toronto_merged['Longitude'], central_toronto_merged['Neighborhood'], central_toronto_merged['Cluster Labels']):\n",
    "    label = folium.Popup(str(poi) + ' Cluster ' + str(cluster), parse_html=True)\n",
    "    folium.CircleMarker(\n",
    "        [lat, lon],\n",
    "        radius=5,\n",
    "        popup=label,\n",
    "        color=rainbow[cluster-1],\n",
    "        fill=True,\n",
    "        fill_color=rainbow[cluster-1],\n",
    "        fill_opacity=0.7).add_to(map_clusters)\n",
    "       \n",
    "map_clusters"
   ]
  }
 ],
 "metadata": {
  "kernelspec": {
   "display_name": "Python 3",
   "language": "python",
   "name": "python3"
  },
  "language_info": {
   "codemirror_mode": {
    "name": "ipython",
    "version": 3
   },
   "file_extension": ".py",
   "mimetype": "text/x-python",
   "name": "python",
   "nbconvert_exporter": "python",
   "pygments_lexer": "ipython3",
   "version": "3.7.4"
  }
 },
 "nbformat": 4,
 "nbformat_minor": 2
}
